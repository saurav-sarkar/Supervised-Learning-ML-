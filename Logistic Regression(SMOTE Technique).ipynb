{
 "cells": [
  {
   "cell_type": "code",
   "execution_count": 1,
   "id": "390520e7",
   "metadata": {},
   "outputs": [],
   "source": [
    "import pandas as pd\n",
    "import warnings\n",
    "warnings.filterwarnings('ignore')"
   ]
  },
  {
   "cell_type": "code",
   "execution_count": 2,
   "id": "2b9540da",
   "metadata": {},
   "outputs": [
    {
     "data": {
      "text/html": [
       "<div>\n",
       "<style scoped>\n",
       "    .dataframe tbody tr th:only-of-type {\n",
       "        vertical-align: middle;\n",
       "    }\n",
       "\n",
       "    .dataframe tbody tr th {\n",
       "        vertical-align: top;\n",
       "    }\n",
       "\n",
       "    .dataframe thead th {\n",
       "        text-align: right;\n",
       "    }\n",
       "</style>\n",
       "<table border=\"1\" class=\"dataframe\">\n",
       "  <thead>\n",
       "    <tr style=\"text-align: right;\">\n",
       "      <th></th>\n",
       "      <th>male</th>\n",
       "      <th>age</th>\n",
       "      <th>education</th>\n",
       "      <th>currentSmoker</th>\n",
       "      <th>cigsPerDay</th>\n",
       "      <th>BPMeds</th>\n",
       "      <th>prevalentStroke</th>\n",
       "      <th>prevalentHyp</th>\n",
       "      <th>diabetes</th>\n",
       "      <th>totChol</th>\n",
       "      <th>sysBP</th>\n",
       "      <th>diaBP</th>\n",
       "      <th>BMI</th>\n",
       "      <th>heartRate</th>\n",
       "      <th>glucose</th>\n",
       "      <th>TenYearCHD</th>\n",
       "    </tr>\n",
       "  </thead>\n",
       "  <tbody>\n",
       "    <tr>\n",
       "      <th>0</th>\n",
       "      <td>1</td>\n",
       "      <td>39</td>\n",
       "      <td>4.0</td>\n",
       "      <td>0</td>\n",
       "      <td>0.0</td>\n",
       "      <td>0.0</td>\n",
       "      <td>0</td>\n",
       "      <td>0</td>\n",
       "      <td>0</td>\n",
       "      <td>195.0</td>\n",
       "      <td>106.0</td>\n",
       "      <td>70.0</td>\n",
       "      <td>26.97</td>\n",
       "      <td>80.0</td>\n",
       "      <td>77.0</td>\n",
       "      <td>0</td>\n",
       "    </tr>\n",
       "    <tr>\n",
       "      <th>1</th>\n",
       "      <td>0</td>\n",
       "      <td>46</td>\n",
       "      <td>2.0</td>\n",
       "      <td>0</td>\n",
       "      <td>0.0</td>\n",
       "      <td>0.0</td>\n",
       "      <td>0</td>\n",
       "      <td>0</td>\n",
       "      <td>0</td>\n",
       "      <td>250.0</td>\n",
       "      <td>121.0</td>\n",
       "      <td>81.0</td>\n",
       "      <td>28.73</td>\n",
       "      <td>95.0</td>\n",
       "      <td>76.0</td>\n",
       "      <td>0</td>\n",
       "    </tr>\n",
       "    <tr>\n",
       "      <th>2</th>\n",
       "      <td>1</td>\n",
       "      <td>48</td>\n",
       "      <td>1.0</td>\n",
       "      <td>1</td>\n",
       "      <td>20.0</td>\n",
       "      <td>0.0</td>\n",
       "      <td>0</td>\n",
       "      <td>0</td>\n",
       "      <td>0</td>\n",
       "      <td>245.0</td>\n",
       "      <td>127.5</td>\n",
       "      <td>80.0</td>\n",
       "      <td>25.34</td>\n",
       "      <td>75.0</td>\n",
       "      <td>70.0</td>\n",
       "      <td>0</td>\n",
       "    </tr>\n",
       "    <tr>\n",
       "      <th>3</th>\n",
       "      <td>0</td>\n",
       "      <td>61</td>\n",
       "      <td>3.0</td>\n",
       "      <td>1</td>\n",
       "      <td>30.0</td>\n",
       "      <td>0.0</td>\n",
       "      <td>0</td>\n",
       "      <td>1</td>\n",
       "      <td>0</td>\n",
       "      <td>225.0</td>\n",
       "      <td>150.0</td>\n",
       "      <td>95.0</td>\n",
       "      <td>28.58</td>\n",
       "      <td>65.0</td>\n",
       "      <td>103.0</td>\n",
       "      <td>1</td>\n",
       "    </tr>\n",
       "    <tr>\n",
       "      <th>4</th>\n",
       "      <td>0</td>\n",
       "      <td>46</td>\n",
       "      <td>3.0</td>\n",
       "      <td>1</td>\n",
       "      <td>23.0</td>\n",
       "      <td>0.0</td>\n",
       "      <td>0</td>\n",
       "      <td>0</td>\n",
       "      <td>0</td>\n",
       "      <td>285.0</td>\n",
       "      <td>130.0</td>\n",
       "      <td>84.0</td>\n",
       "      <td>23.10</td>\n",
       "      <td>85.0</td>\n",
       "      <td>85.0</td>\n",
       "      <td>0</td>\n",
       "    </tr>\n",
       "  </tbody>\n",
       "</table>\n",
       "</div>"
      ],
      "text/plain": [
       "   male  age  education  currentSmoker  cigsPerDay  BPMeds  prevalentStroke  \\\n",
       "0     1   39        4.0              0         0.0     0.0                0   \n",
       "1     0   46        2.0              0         0.0     0.0                0   \n",
       "2     1   48        1.0              1        20.0     0.0                0   \n",
       "3     0   61        3.0              1        30.0     0.0                0   \n",
       "4     0   46        3.0              1        23.0     0.0                0   \n",
       "\n",
       "   prevalentHyp  diabetes  totChol  sysBP  diaBP    BMI  heartRate  glucose  \\\n",
       "0             0         0    195.0  106.0   70.0  26.97       80.0     77.0   \n",
       "1             0         0    250.0  121.0   81.0  28.73       95.0     76.0   \n",
       "2             0         0    245.0  127.5   80.0  25.34       75.0     70.0   \n",
       "3             1         0    225.0  150.0   95.0  28.58       65.0    103.0   \n",
       "4             0         0    285.0  130.0   84.0  23.10       85.0     85.0   \n",
       "\n",
       "   TenYearCHD  \n",
       "0           0  \n",
       "1           0  \n",
       "2           0  \n",
       "3           1  \n",
       "4           0  "
      ]
     },
     "execution_count": 2,
     "metadata": {},
     "output_type": "execute_result"
    }
   ],
   "source": [
    "#Step 1: Read the data\n",
    "df = pd.read_csv(r\"E:/Dataset/framingham.csv\")\n",
    "df.head()"
   ]
  },
  {
   "cell_type": "code",
   "execution_count": 3,
   "id": "47fc7efc",
   "metadata": {},
   "outputs": [
    {
     "data": {
      "text/html": [
       "<div>\n",
       "<style scoped>\n",
       "    .dataframe tbody tr th:only-of-type {\n",
       "        vertical-align: middle;\n",
       "    }\n",
       "\n",
       "    .dataframe tbody tr th {\n",
       "        vertical-align: top;\n",
       "    }\n",
       "\n",
       "    .dataframe thead th {\n",
       "        text-align: right;\n",
       "    }\n",
       "</style>\n",
       "<table border=\"1\" class=\"dataframe\">\n",
       "  <thead>\n",
       "    <tr style=\"text-align: right;\">\n",
       "      <th></th>\n",
       "      <th>age</th>\n",
       "      <th>cigsPerDay</th>\n",
       "      <th>BPMeds</th>\n",
       "      <th>totChol</th>\n",
       "      <th>sysBP</th>\n",
       "      <th>diaBP</th>\n",
       "      <th>TenYearCHD</th>\n",
       "    </tr>\n",
       "  </thead>\n",
       "  <tbody>\n",
       "    <tr>\n",
       "      <th>0</th>\n",
       "      <td>39</td>\n",
       "      <td>0.0</td>\n",
       "      <td>0.0</td>\n",
       "      <td>195.0</td>\n",
       "      <td>106.0</td>\n",
       "      <td>70.0</td>\n",
       "      <td>0</td>\n",
       "    </tr>\n",
       "    <tr>\n",
       "      <th>1</th>\n",
       "      <td>46</td>\n",
       "      <td>0.0</td>\n",
       "      <td>0.0</td>\n",
       "      <td>250.0</td>\n",
       "      <td>121.0</td>\n",
       "      <td>81.0</td>\n",
       "      <td>0</td>\n",
       "    </tr>\n",
       "    <tr>\n",
       "      <th>2</th>\n",
       "      <td>48</td>\n",
       "      <td>20.0</td>\n",
       "      <td>0.0</td>\n",
       "      <td>245.0</td>\n",
       "      <td>127.5</td>\n",
       "      <td>80.0</td>\n",
       "      <td>0</td>\n",
       "    </tr>\n",
       "    <tr>\n",
       "      <th>3</th>\n",
       "      <td>61</td>\n",
       "      <td>30.0</td>\n",
       "      <td>0.0</td>\n",
       "      <td>225.0</td>\n",
       "      <td>150.0</td>\n",
       "      <td>95.0</td>\n",
       "      <td>1</td>\n",
       "    </tr>\n",
       "    <tr>\n",
       "      <th>4</th>\n",
       "      <td>46</td>\n",
       "      <td>23.0</td>\n",
       "      <td>0.0</td>\n",
       "      <td>285.0</td>\n",
       "      <td>130.0</td>\n",
       "      <td>84.0</td>\n",
       "      <td>0</td>\n",
       "    </tr>\n",
       "  </tbody>\n",
       "</table>\n",
       "</div>"
      ],
      "text/plain": [
       "   age  cigsPerDay  BPMeds  totChol  sysBP  diaBP  TenYearCHD\n",
       "0   39         0.0     0.0    195.0  106.0   70.0           0\n",
       "1   46         0.0     0.0    250.0  121.0   81.0           0\n",
       "2   48        20.0     0.0    245.0  127.5   80.0           0\n",
       "3   61        30.0     0.0    225.0  150.0   95.0           1\n",
       "4   46        23.0     0.0    285.0  130.0   84.0           0"
      ]
     },
     "execution_count": 3,
     "metadata": {},
     "output_type": "execute_result"
    }
   ],
   "source": [
    "# Step 2: Data Pre-Processing:\n",
    "# Creating a subset of data with only input and output variables\n",
    "df_new = df[['age','cigsPerDay','BPMeds','totChol', 'sysBP','diaBP','TenYearCHD']]\n",
    "df_new.head()"
   ]
  },
  {
   "cell_type": "code",
   "execution_count": 4,
   "id": "78107a9a",
   "metadata": {},
   "outputs": [
    {
     "data": {
      "text/plain": [
       "age            0\n",
       "cigsPerDay    29\n",
       "BPMeds        53\n",
       "totChol       50\n",
       "sysBP          0\n",
       "diaBP          0\n",
       "TenYearCHD     0\n",
       "dtype: int64"
      ]
     },
     "execution_count": 4,
     "metadata": {},
     "output_type": "execute_result"
    }
   ],
   "source": [
    "# Check the missing values in dataset\n",
    "df_new.isnull().sum() #Sum gives you the missing values present in data"
   ]
  },
  {
   "cell_type": "code",
   "execution_count": 5,
   "id": "2b771735",
   "metadata": {},
   "outputs": [
    {
     "name": "stdout",
     "output_type": "stream",
     "text": [
      "1.2470523561848126\n",
      "0.8718805634765354\n"
     ]
    }
   ],
   "source": [
    "# For Numerical column (i.e totChol,cigsPerDay) : Checking skewness value\n",
    "print(df_new['cigsPerDay'].skew())\n",
    "print(df_new['totChol'].skew())"
   ]
  },
  {
   "cell_type": "code",
   "execution_count": 6,
   "id": "7670d672",
   "metadata": {},
   "outputs": [
    {
     "data": {
      "text/plain": [
       "0.0    4063\n",
       "1.0     124\n",
       "Name: BPMeds, dtype: int64"
      ]
     },
     "execution_count": 6,
     "metadata": {},
     "output_type": "execute_result"
    }
   ],
   "source": [
    "# For categorical column (i.e BP meds) : Lets identify the mode\n",
    "df_new['BPMeds'].value_counts()"
   ]
  },
  {
   "cell_type": "code",
   "execution_count": 7,
   "id": "2f583f56",
   "metadata": {},
   "outputs": [],
   "source": [
    "#fillna() will replace the missing values\n",
    "df_new['cigsPerDay'] = df_new['cigsPerDay'].fillna(df_new['cigsPerDay'].median())\n",
    "df_new['totChol'] = df_new['totChol'].fillna(df_new['totChol'].mean())\n",
    "df_new['BPMeds'] = df_new['BPMeds'].fillna(0)"
   ]
  },
  {
   "cell_type": "code",
   "execution_count": 8,
   "id": "32931836",
   "metadata": {},
   "outputs": [
    {
     "name": "stdout",
     "output_type": "stream",
     "text": [
      "<class 'pandas.core.frame.DataFrame'>\n",
      "RangeIndex: 4240 entries, 0 to 4239\n",
      "Data columns (total 7 columns):\n",
      " #   Column      Non-Null Count  Dtype  \n",
      "---  ------      --------------  -----  \n",
      " 0   age         4240 non-null   int64  \n",
      " 1   cigsPerDay  4240 non-null   float64\n",
      " 2   BPMeds      4240 non-null   float64\n",
      " 3   totChol     4240 non-null   float64\n",
      " 4   sysBP       4240 non-null   float64\n",
      " 5   diaBP       4240 non-null   float64\n",
      " 6   TenYearCHD  4240 non-null   int64  \n",
      "dtypes: float64(5), int64(2)\n",
      "memory usage: 232.0 KB\n"
     ]
    }
   ],
   "source": [
    "df_new.info()"
   ]
  },
  {
   "cell_type": "code",
   "execution_count": 9,
   "id": "22020698",
   "metadata": {},
   "outputs": [],
   "source": [
    "# Step 3 : Defining X and Y\n",
    "X = df_new[['age','cigsPerDay','BPMeds','totChol','sysBP','diaBP']]\n",
    "Y = df_new[['TenYearCHD']]"
   ]
  },
  {
   "cell_type": "code",
   "execution_count": 10,
   "id": "6f51cc13",
   "metadata": {},
   "outputs": [
    {
     "data": {
      "text/plain": [
       "(3392, 848, 3392, 848)"
      ]
     },
     "execution_count": 10,
     "metadata": {},
     "output_type": "execute_result"
    }
   ],
   "source": [
    "# Step 4: Splitting the data into train and test\n",
    "from sklearn.model_selection import train_test_split\n",
    "X_train, X_test, Y_train, Y_test = train_test_split(X,Y, train_size = 0.8, random_state=1234)\n",
    " \n",
    "len(X_train), len(X_test), len(Y_train), len(Y_test)"
   ]
  },
  {
   "cell_type": "markdown",
   "id": "c8b33f94",
   "metadata": {},
   "source": [
    "To check the training data set is balanced or not "
   ]
  },
  {
   "cell_type": "code",
   "execution_count": 14,
   "id": "0ac61f37",
   "metadata": {},
   "outputs": [
    {
     "name": "stdout",
     "output_type": "stream",
     "text": [
      "count of 1 in Y_train is: 513\n",
      "count of 0 in Y_train is: 2879\n"
     ]
    }
   ],
   "source": [
    "# Lets find the no of data points in training dataset for target variable\n",
    "print('count of 1 in Y_train is:',sum(Y_train['TenYearCHD']==1))\n",
    "print('count of 0 in Y_train is:',sum(Y_train['TenYearCHD']==0))"
   ]
  },
  {
   "cell_type": "markdown",
   "id": "ab2e2aea",
   "metadata": {},
   "source": [
    "Our training data points have 2879 observation in the category 0 (persion will not get heart attact in next 10 years),\n",
    "where as there are 513 data points which are in category 1 (persion will get heart attack in next 10 years)\n",
    "\n",
    "We must first balance our training dataset, by bringing more datapoints in cat 1\n",
    "\n",
    "Data balancing methods are : Oversampling and Undersampling \n",
    "\n",
    "a. In oversampling method this is applied on minority category data. Method to be followed in SMOTE\n",
    "b. In undersampling method this is applied on majority category data."
   ]
  },
  {
   "cell_type": "code",
   "execution_count": 15,
   "id": "88d69b40",
   "metadata": {},
   "outputs": [
    {
     "name": "stdout",
     "output_type": "stream",
     "text": [
      "Collecting imblearn\n",
      "  Downloading imblearn-0.0-py2.py3-none-any.whl (1.9 kB)\n",
      "Collecting imbalanced-learn\n",
      "  Downloading imbalanced_learn-0.10.1-py3-none-any.whl (226 kB)\n",
      "Requirement already satisfied: scikit-learn>=1.0.2 in c:\\users\\dell\\anaconda3\\lib\\site-packages (from imbalanced-learn->imblearn) (1.0.2)\n",
      "Requirement already satisfied: numpy>=1.17.3 in c:\\users\\dell\\anaconda3\\lib\\site-packages (from imbalanced-learn->imblearn) (1.21.5)\n",
      "Requirement already satisfied: threadpoolctl>=2.0.0 in c:\\users\\dell\\anaconda3\\lib\\site-packages (from imbalanced-learn->imblearn) (2.2.0)\n",
      "Requirement already satisfied: scipy>=1.3.2 in c:\\users\\dell\\anaconda3\\lib\\site-packages (from imbalanced-learn->imblearn) (1.7.3)\n",
      "Collecting joblib>=1.1.1\n",
      "  Using cached joblib-1.2.0-py3-none-any.whl (297 kB)\n",
      "Installing collected packages: joblib, imbalanced-learn, imblearn\n",
      "  Attempting uninstall: joblib\n",
      "    Found existing installation: joblib 1.1.0\n",
      "    Uninstalling joblib-1.1.0:\n",
      "      Successfully uninstalled joblib-1.1.0\n",
      "Successfully installed imbalanced-learn-0.10.1 imblearn-0.0 joblib-1.2.0\n"
     ]
    }
   ],
   "source": [
    "#SMOTE on X_train and Y_train\n",
    "!pip install imblearn"
   ]
  },
  {
   "cell_type": "markdown",
   "id": "e6ba27e4",
   "metadata": {},
   "source": [
    "# SMOTE"
   ]
  },
  {
   "cell_type": "code",
   "execution_count": 16,
   "id": "18aaae1f",
   "metadata": {},
   "outputs": [],
   "source": [
    "# Import the functionality of SMOTE\n",
    "\n",
    "from imblearn.over_sampling import SMOTE"
   ]
  },
  {
   "cell_type": "code",
   "execution_count": 17,
   "id": "d86679ff",
   "metadata": {},
   "outputs": [],
   "source": [
    "# We will balance the traing data\n",
    "# 1. We will create SMOTE object\n",
    "\n",
    "sm = SMOTE(random_state = 1234)\n",
    "\n",
    "# 2. We will fit the SMOTE object on X_train, and Y_train --> fit.resample\n",
    "\n",
    "X_train_new, Y_train_new = sm.fit_resample(X_train,Y_train)"
   ]
  },
  {
   "cell_type": "code",
   "execution_count": 18,
   "id": "7d8f0881",
   "metadata": {},
   "outputs": [
    {
     "name": "stdout",
     "output_type": "stream",
     "text": [
      "count of 1 in Y_train_new is: 2879\n",
      "count of 0 in Y_train_new is: 2879\n"
     ]
    }
   ],
   "source": [
    "# Lets find the new no of data points in training dataset for target variable\n",
    "print('count of 1 in Y_train_new is:',sum(Y_train_new['TenYearCHD']==1))\n",
    "print('count of 0 in Y_train_new is:',sum(Y_train_new['TenYearCHD']==0))"
   ]
  },
  {
   "cell_type": "code",
   "execution_count": 23,
   "id": "8741a81c",
   "metadata": {},
   "outputs": [
    {
     "data": {
      "text/plain": [
       "LogisticRegression()"
      ]
     },
     "execution_count": 23,
     "metadata": {},
     "output_type": "execute_result"
    }
   ],
   "source": [
    "# Step 4: Creating the model using the training data set\n",
    "\n",
    "# step a: Create a model object \n",
    "from sklearn.linear_model import LogisticRegression\n",
    "LR = LogisticRegression()\n",
    "\n",
    "# step b: Fit the model object into training data to build a model\n",
    "model = LR.fit(X_train_new, Y_train_new)\n",
    "model"
   ]
  },
  {
   "cell_type": "code",
   "execution_count": 28,
   "id": "58d81feb",
   "metadata": {},
   "outputs": [],
   "source": [
    "# Step 5: Predict the values on test data using your model\n",
    "Y_test['predicted_TenyearCHD'] = model.predict(X_test)"
   ]
  },
  {
   "cell_type": "code",
   "execution_count": 29,
   "id": "01dce06e",
   "metadata": {},
   "outputs": [
    {
     "data": {
      "text/html": [
       "<div>\n",
       "<style scoped>\n",
       "    .dataframe tbody tr th:only-of-type {\n",
       "        vertical-align: middle;\n",
       "    }\n",
       "\n",
       "    .dataframe tbody tr th {\n",
       "        vertical-align: top;\n",
       "    }\n",
       "\n",
       "    .dataframe thead th {\n",
       "        text-align: right;\n",
       "    }\n",
       "</style>\n",
       "<table border=\"1\" class=\"dataframe\">\n",
       "  <thead>\n",
       "    <tr style=\"text-align: right;\">\n",
       "      <th></th>\n",
       "      <th>TenYearCHD</th>\n",
       "      <th>predicted</th>\n",
       "      <th>predicted_TenyearCHD</th>\n",
       "    </tr>\n",
       "  </thead>\n",
       "  <tbody>\n",
       "    <tr>\n",
       "      <th>1226</th>\n",
       "      <td>0</td>\n",
       "      <td>0</td>\n",
       "      <td>0</td>\n",
       "    </tr>\n",
       "    <tr>\n",
       "      <th>1011</th>\n",
       "      <td>0</td>\n",
       "      <td>1</td>\n",
       "      <td>1</td>\n",
       "    </tr>\n",
       "    <tr>\n",
       "      <th>165</th>\n",
       "      <td>0</td>\n",
       "      <td>1</td>\n",
       "      <td>1</td>\n",
       "    </tr>\n",
       "    <tr>\n",
       "      <th>1311</th>\n",
       "      <td>0</td>\n",
       "      <td>1</td>\n",
       "      <td>1</td>\n",
       "    </tr>\n",
       "    <tr>\n",
       "      <th>1712</th>\n",
       "      <td>0</td>\n",
       "      <td>0</td>\n",
       "      <td>0</td>\n",
       "    </tr>\n",
       "    <tr>\n",
       "      <th>...</th>\n",
       "      <td>...</td>\n",
       "      <td>...</td>\n",
       "      <td>...</td>\n",
       "    </tr>\n",
       "    <tr>\n",
       "      <th>2981</th>\n",
       "      <td>1</td>\n",
       "      <td>1</td>\n",
       "      <td>1</td>\n",
       "    </tr>\n",
       "    <tr>\n",
       "      <th>374</th>\n",
       "      <td>0</td>\n",
       "      <td>1</td>\n",
       "      <td>1</td>\n",
       "    </tr>\n",
       "    <tr>\n",
       "      <th>2014</th>\n",
       "      <td>0</td>\n",
       "      <td>0</td>\n",
       "      <td>0</td>\n",
       "    </tr>\n",
       "    <tr>\n",
       "      <th>2010</th>\n",
       "      <td>0</td>\n",
       "      <td>0</td>\n",
       "      <td>0</td>\n",
       "    </tr>\n",
       "    <tr>\n",
       "      <th>4034</th>\n",
       "      <td>0</td>\n",
       "      <td>0</td>\n",
       "      <td>0</td>\n",
       "    </tr>\n",
       "  </tbody>\n",
       "</table>\n",
       "<p>848 rows × 3 columns</p>\n",
       "</div>"
      ],
      "text/plain": [
       "      TenYearCHD  predicted  predicted_TenyearCHD\n",
       "1226           0          0                     0\n",
       "1011           0          1                     1\n",
       "165            0          1                     1\n",
       "1311           0          1                     1\n",
       "1712           0          0                     0\n",
       "...          ...        ...                   ...\n",
       "2981           1          1                     1\n",
       "374            0          1                     1\n",
       "2014           0          0                     0\n",
       "2010           0          0                     0\n",
       "4034           0          0                     0\n",
       "\n",
       "[848 rows x 3 columns]"
      ]
     },
     "execution_count": 29,
     "metadata": {},
     "output_type": "execute_result"
    }
   ],
   "source": [
    "Y_test"
   ]
  },
  {
   "cell_type": "code",
   "execution_count": 33,
   "id": "efdb0afc",
   "metadata": {},
   "outputs": [
    {
     "data": {
      "text/plain": [
       "array([[473, 244],\n",
       "       [ 49,  82]], dtype=int64)"
      ]
     },
     "execution_count": 33,
     "metadata": {},
     "output_type": "execute_result"
    }
   ],
   "source": [
    "# Step 6 : Using Confusion Matrix -> Check the accuracy of model\n",
    "from sklearn.metrics import confusion_matrix, accuracy_score, classification_report\n",
    "\n",
    "confusion_matrix(Y_test['TenYearCHD'],Y_test['predicted_TenyearCHD'])"
   ]
  },
  {
   "cell_type": "code",
   "execution_count": 32,
   "id": "eef241f7",
   "metadata": {},
   "outputs": [
    {
     "data": {
      "text/plain": [
       "0.6544811320754716"
      ]
     },
     "execution_count": 32,
     "metadata": {},
     "output_type": "execute_result"
    }
   ],
   "source": [
    "accuracy_score(Y_test['TenYearCHD'],Y_test['predicted_TenyearCHD']) #True predicton 473 + 82  and False prediction is 244 + 49"
   ]
  },
  {
   "cell_type": "markdown",
   "id": "fdc2fec0",
   "metadata": {},
   "source": [
    "Accuracy of model is 65.44%"
   ]
  },
  {
   "cell_type": "code",
   "execution_count": 35,
   "id": "f7bdf5d5",
   "metadata": {},
   "outputs": [
    {
     "name": "stdout",
     "output_type": "stream",
     "text": [
      "              precision    recall  f1-score   support\n",
      "\n",
      "           0       0.91      0.66      0.76       717\n",
      "           1       0.25      0.63      0.36       131\n",
      "\n",
      "    accuracy                           0.65       848\n",
      "   macro avg       0.58      0.64      0.56       848\n",
      "weighted avg       0.81      0.65      0.70       848\n",
      "\n"
     ]
    }
   ],
   "source": [
    "print(classification_report(Y_test['TenYearCHD'],Y_test['predicted_TenyearCHD']))\n",
    "# ideal situation recall value should be similiar, Model should not be biased"
   ]
  },
  {
   "cell_type": "markdown",
   "id": "b828ba61",
   "metadata": {},
   "source": [
    "Now we can see that the both recall values are closer to each other so this model is preferrably good as compair to previous \n",
    "\n",
    "Even though accuracy droped but recall value is in similar range so the model knows how to classify 1 and 0 "
   ]
  },
  {
   "cell_type": "markdown",
   "id": "ffc5c104",
   "metadata": {},
   "source": [
    "The previous model (logistic regression) accuracy score was 85% but recall vale for classify something was just 7% and\n",
    "recall value for classifying in category 0 was 100% this mean our model was biased towards classifying everthing as 0 or our\n",
    "model doesnt know how to classify something as 1\n",
    "\n",
    "Current model(logistic regression with SMOTE) Even though accuracy droped from 85 to 65 still it is considered as good model\n",
    "and recall value is in similar range so the model knows how to classify 1 and 0 with similar accuracy. Our model is not biased in nature."
   ]
  },
  {
   "cell_type": "code",
   "execution_count": null,
   "id": "a30ea517",
   "metadata": {},
   "outputs": [],
   "source": []
  }
 ],
 "metadata": {
  "kernelspec": {
   "display_name": "Python 3 (ipykernel)",
   "language": "python",
   "name": "python3"
  },
  "language_info": {
   "codemirror_mode": {
    "name": "ipython",
    "version": 3
   },
   "file_extension": ".py",
   "mimetype": "text/x-python",
   "name": "python",
   "nbconvert_exporter": "python",
   "pygments_lexer": "ipython3",
   "version": "3.9.12"
  }
 },
 "nbformat": 4,
 "nbformat_minor": 5
}
